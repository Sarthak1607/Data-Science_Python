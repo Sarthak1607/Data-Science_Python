{
 "cells": [
  {
   "cell_type": "code",
   "execution_count": 56,
   "metadata": {},
   "outputs": [
    {
     "name": "stdout",
     "output_type": "stream",
     "text": [
      "10\n"
     ]
    }
   ],
   "source": [
    "#n=int(input())\n",
    "#for i in range(n,0,n//2):\n",
    "    #print(i)"
   ]
  },
  {
   "cell_type": "code",
   "execution_count": 29,
   "metadata": {},
   "outputs": [
    {
     "name": "stdout",
     "output_type": "stream",
     "text": [
      "10\n",
      "10\n",
      "7\n",
      "4\n",
      "1\n"
     ]
    }
   ],
   "source": [
    "n=int(input())\n",
    "for i in range(n,0,-3):\n",
    "    print(i)\n",
    "    "
   ]
  },
  {
   "cell_type": "code",
   "execution_count": 31,
   "metadata": {},
   "outputs": [
    {
     "name": "stdout",
     "output_type": "stream",
     "text": [
      "10\n",
      "5 11 14 17 23 26 29 35 38 41 "
     ]
    }
   ],
   "source": [
    "## Read input as specified in the question.\n",
    "## Print output as specified in the question.\n",
    "n=int(input())\n",
    "count=1\n",
    "for i in range(1,n+1,1):\n",
    "    series=(3*count+2)\n",
    "    \n",
    "    #print(series,\"------\")\n",
    "    if(series%4==0):\n",
    "        \n",
    "       # n=n+1\n",
    "       #print(count+1,\"if me value\")\n",
    "        print(3*(count+1)+2,end=' ')\n",
    "        count=count+2\n",
    "    else:\n",
    "        #print(count,\"else me value\")\n",
    "        print(3*count+2,end=' ')\n",
    "        count=count+1\n"
   ]
  },
  {
   "cell_type": "code",
   "execution_count": 34,
   "metadata": {},
   "outputs": [
    {
     "name": "stdout",
     "output_type": "stream",
     "text": [
      "20\n",
      "not prime\n"
     ]
    }
   ],
   "source": [
    "#isprime\n",
    "n=int(input())\n",
    "flag=False\n",
    "for d in range(2,n,1):\n",
    "    if (n%d==0):\n",
    "        flag=True\n",
    "if flag:\n",
    "    print(\"not prime\")\n",
    "else:\n",
    "    print(\"prime\")\n",
    "        "
   ]
  },
  {
   "cell_type": "code",
   "execution_count": 37,
   "metadata": {},
   "outputs": [
    {
     "name": "stdout",
     "output_type": "stream",
     "text": [
      "7\n",
      "prime\n"
     ]
    }
   ],
   "source": [
    "#is prime with else\n",
    "#isprime\n",
    "n=int(input())\n",
    "for d in range(2,n,1):\n",
    "    if (n%d==0):\n",
    "        print(\"not prime\")\n",
    "        break\n",
    "else:\n",
    "    print(\"prime\")"
   ]
  },
  {
   "cell_type": "code",
   "execution_count": 3,
   "metadata": {},
   "outputs": [
    {
     "data": {
      "text/plain": [
       "0"
      ]
     },
     "execution_count": 3,
     "metadata": {},
     "output_type": "execute_result"
    }
   ],
   "source": [
    "1//10"
   ]
  },
  {
   "cell_type": "code",
   "execution_count": 117,
   "metadata": {},
   "outputs": [
    {
     "name": "stdout",
     "output_type": "stream",
     "text": [
      "12\n",
      "2\n",
      "0011\n",
      "0011 ---\n",
      "0011 ---\n",
      "1100\n"
     ]
    }
   ],
   "source": [
    "# decimal to binary\n",
    "n=int(input())\n",
    "on=n\n",
    "count=0\n",
    "while(n!=0):\n",
    "    n=n//10\n",
    "    count=count+1\n",
    "print(count)\n",
    "\n",
    "newnum=\"\"   \n",
    "for i in range(0,count+2,1):\n",
    "    #print(n,\"---++++--\")\n",
    "    rem=on%2   \n",
    "    #print(rem,\"------------\")\n",
    "    newnum=newnum+str(rem)\n",
    "    print(rem,end ='')\n",
    "    on=on//2\n",
    "print()\n",
    "print(newnum,\"---\")\n",
    "\n",
    "#newnum=int(newnum)\n",
    "print(newnum,\"---\")\n",
    "newnum=newnum[::-1]\n",
    "print(newnum)\n",
    "#print(newnum,\"++++++++++\")"
   ]
  },
  {
   "cell_type": "code",
   "execution_count": 17,
   "metadata": {},
   "outputs": [
    {
     "name": "stdout",
     "output_type": "stream",
     "text": [
      "10\n",
      "2\n",
      "3628800\n"
     ]
    }
   ],
   "source": [
    "n=int(input())\n",
    "c=int(input())\n",
    "if c==1:\n",
    "    sum=0\n",
    "    for i in range(1,n+1,1):\n",
    "        sum=sum+i\n",
    "    print(sum)\n",
    "elif c==2:\n",
    "    prod=1\n",
    "    for k in range(1,n+1,1):\n",
    "        prod=prod*k\n",
    "    print(prod)"
   ]
  },
  {
   "cell_type": "code",
   "execution_count": 47,
   "metadata": {},
   "outputs": [
    {
     "name": "stdout",
     "output_type": "stream",
     "text": [
      "10\n"
     ]
    }
   ],
   "source": [
    "n=int(input())\n",
    "rv=0\n",
    "power=1\n",
    "for i in range(n,0,n//2):\n",
    "    rem=n%dec\n",
    "    rv=rv+rem*power\n",
    "    power=power*10\n",
    "    n=n//2\n",
    "    "
   ]
  },
  {
   "cell_type": "code",
   "execution_count": 59,
   "metadata": {},
   "outputs": [
    {
     "name": "stdout",
     "output_type": "stream",
     "text": [
      "11\n",
      "1011\n"
     ]
    }
   ],
   "source": [
    "n=int(input(\"Enter the decimal\"))\n",
    "base=int(input(\"Enter the base\"))\n",
    "rv=0\n",
    "power=1\n",
    "while (n!=0):\n",
    "    rem=n%2\n",
    "    rv=rv+rem*power\n",
    "    power=power*10\n",
    "    n=n//2\n",
    "print(rv)"
   ]
  },
  {
   "cell_type": "code",
   "execution_count": 61,
   "metadata": {
    "scrolled": true
   },
   "outputs": [
    {
     "name": "stdout",
     "output_type": "stream",
     "text": [
      "Enter the Number1011\n",
      "Enter the base2\n"
     ]
    },
    {
     "ename": "TypeError",
     "evalue": "range() takes no keyword arguments",
     "output_type": "error",
     "traceback": [
      "\u001b[1;31m---------------------------------------------------------------------------\u001b[0m",
      "\u001b[1;31mTypeError\u001b[0m                                 Traceback (most recent call last)",
      "\u001b[1;32m<ipython-input-61-4fc830597026>\u001b[0m in \u001b[0;36m<module>\u001b[1;34m\u001b[0m\n\u001b[0;32m      3\u001b[0m \u001b[0mrv\u001b[0m\u001b[1;33m=\u001b[0m\u001b[1;36m0\u001b[0m\u001b[1;33m\u001b[0m\u001b[1;33m\u001b[0m\u001b[0m\n\u001b[0;32m      4\u001b[0m \u001b[0mdecn\u001b[0m\u001b[1;33m=\u001b[0m\u001b[1;36m0\u001b[0m\u001b[1;33m\u001b[0m\u001b[1;33m\u001b[0m\u001b[0m\n\u001b[1;32m----> 5\u001b[1;33m \u001b[1;32mfor\u001b[0m \u001b[0mi\u001b[0m \u001b[1;32min\u001b[0m \u001b[0mrange\u001b[0m\u001b[1;33m(\u001b[0m\u001b[1;36m1\u001b[0m\u001b[1;33m,\u001b[0m\u001b[1;36m0\u001b[0m\u001b[1;33m,\u001b[0m\u001b[0mn\u001b[0m\u001b[1;33m=\u001b[0m\u001b[0mn\u001b[0m\u001b[1;33m//\u001b[0m\u001b[1;36m2\u001b[0m\u001b[1;33m)\u001b[0m\u001b[1;33m:\u001b[0m\u001b[1;33m\u001b[0m\u001b[1;33m\u001b[0m\u001b[0m\n\u001b[0m\u001b[0;32m      6\u001b[0m     \u001b[0mrem\u001b[0m\u001b[1;33m=\u001b[0m\u001b[0mn\u001b[0m\u001b[1;33m%\u001b[0m\u001b[1;36m2\u001b[0m\u001b[1;33m\u001b[0m\u001b[1;33m\u001b[0m\u001b[0m\n\u001b[0;32m      7\u001b[0m     \u001b[0mdecn\u001b[0m\u001b[1;33m=\u001b[0m\u001b[0mdecn\u001b[0m\u001b[1;33m+\u001b[0m\u001b[0mbase\u001b[0m\u001b[1;33m^\u001b[0m\u001b[0mi\u001b[0m\u001b[1;33m\u001b[0m\u001b[1;33m\u001b[0m\u001b[0m\n",
      "\u001b[1;31mTypeError\u001b[0m: range() takes no keyword arguments"
     ]
    }
   ],
   "source": [
    "n=int(input(\"Enter the Number\"))\n",
    "base=int(input(\"Enter the base\"))\n",
    "rv=0\n",
    "decn=0\n",
    "for i in :\n",
    "    rem=n%2\n",
    "    decn=decn+base^i\n",
    "    n=n//2\n",
    "print(decn)"
   ]
  },
  {
   "cell_type": "code",
   "execution_count": 93,
   "metadata": {},
   "outputs": [
    {
     "name": "stdout",
     "output_type": "stream",
     "text": [
      "Enter the Number11\n",
      "Enter the base2\n",
      "3\n"
     ]
    }
   ],
   "source": [
    "n=int(input(\"Enter the Number\"))\n",
    "base=int(input(\"Enter the base\"))\n",
    "rv=0\n",
    "decn=0\n",
    "power=1\n",
    "while(n!=0):\n",
    "    rem=n%10\n",
    "    rv=rv+rem*power\n",
    "    power=power*2\n",
    "    n=n//10\n",
    "    i=i+1\n",
    "print(rv)"
   ]
  },
  {
   "cell_type": "code",
   "execution_count": 96,
   "metadata": {},
   "outputs": [
    {
     "name": "stdout",
     "output_type": "stream",
     "text": [
      "11\n",
      "3\n"
     ]
    }
   ],
   "source": [
    "\n",
    "n=int(input())\n",
    "rv=0\n",
    "power=1\n",
    "while(n!=0):\n",
    "    rem=n%10\n",
    "    rv=rv+rem*power\n",
    "    power=power*2\n",
    "    n=n//10\n",
    "print(rv)"
   ]
  },
  {
   "cell_type": "code",
   "execution_count": 101,
   "metadata": {},
   "outputs": [
    {
     "name": "stdout",
     "output_type": "stream",
     "text": [
      "50\n",
      "12\n"
     ]
    }
   ],
   "source": [
    "n=int(input())\n",
    "sum=0\n",
    "while(n!=0):    \n",
    "    n=n//5\n",
    "    sum=sum+n\n",
    "print(sum)"
   ]
  },
  {
   "cell_type": "code",
   "execution_count": 105,
   "metadata": {},
   "outputs": [
    {
     "name": "stdout",
     "output_type": "stream",
     "text": [
      "400\n",
      "188\n"
     ]
    }
   ],
   "source": [
    "#even fibonccai\n",
    "n=int(input())\n",
    "a=1 \n",
    "b = 1\n",
    "total = 0\n",
    "while a <= n:\n",
    "    if a % 2 == 0:\n",
    "        total =total+ a\n",
    "    a,b  = b, a+b  # the real formula for Fibonacci sequence\n",
    "print(total)"
   ]
  }
 ],
 "metadata": {
  "kernelspec": {
   "display_name": "Python 3",
   "language": "python",
   "name": "python3"
  },
  "language_info": {
   "codemirror_mode": {
    "name": "ipython",
    "version": 3
   },
   "file_extension": ".py",
   "mimetype": "text/x-python",
   "name": "python",
   "nbconvert_exporter": "python",
   "pygments_lexer": "ipython3",
   "version": "3.8.3"
  }
 },
 "nbformat": 4,
 "nbformat_minor": 4
}
