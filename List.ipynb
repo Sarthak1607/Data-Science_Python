{
 "cells": [
  {
   "cell_type": "code",
   "execution_count": 2,
   "metadata": {},
   "outputs": [
    {
     "name": "stdout",
     "output_type": "stream",
     "text": [
      "3\n",
      "1\n",
      "2\n",
      "3\n"
     ]
    },
    {
     "data": {
      "text/plain": [
       "[1, 2, 3]"
      ]
     },
     "execution_count": 2,
     "metadata": {},
     "output_type": "execute_result"
    }
   ],
   "source": [
    "#Take input in a list\n",
    "#VERTICALLY\n",
    "s=int(input())\n",
    "a=[]\n",
    "for i in range(s):\n",
    "    ne=int(input())\n",
    "    a.append(ne)\n",
    "a"
   ]
  },
  {
   "cell_type": "code",
   "execution_count": 13,
   "metadata": {},
   "outputs": [
    {
     "name": "stdout",
     "output_type": "stream",
     "text": [
      "1 2 3 4 5\n"
     ]
    },
    {
     "data": {
      "text/plain": [
       "[1, 2, 3, 4, 5]"
      ]
     },
     "execution_count": 13,
     "metadata": {},
     "output_type": "execute_result"
    }
   ],
   "source": [
    "#Take input in a list\n",
    "#HORIZONTALLY\n",
    "line=input()\n",
    "line\n",
    "l=line.split()\n",
    "l\n",
    "a=[]\n",
    "for s in l:\n",
    "    a.append(int(s))\n",
    "a"
   ]
  },
  {
   "cell_type": "code",
   "execution_count": null,
   "metadata": {},
   "outputs": [],
   "source": [
    "##Doind the above block work in one line\n",
    "l=['1','2']\n",
    "a=[int(s) for s in l]# this is some format used during for loop as well\n",
    "\n"
   ]
  },
  {
   "cell_type": "code",
   "execution_count": 15,
   "metadata": {},
   "outputs": [
    {
     "name": "stdout",
     "output_type": "stream",
     "text": [
      "1 2 3 4 5\n"
     ]
    },
    {
     "data": {
      "text/plain": [
       "[1, 2, 3, 4, 5]"
      ]
     },
     "execution_count": 15,
     "metadata": {},
     "output_type": "execute_result"
    }
   ],
   "source": [
    "##Differnce of the odd and even\n",
    "l=[int(s) for s in input().split()]\n",
    "l"
   ]
  },
  {
   "cell_type": "code",
   "execution_count": 18,
   "metadata": {},
   "outputs": [
    {
     "name": "stdout",
     "output_type": "stream",
     "text": [
      "1 2 3 4 5\n",
      "-3\n"
     ]
    }
   ],
   "source": [
    "l=[int(s) for s in input().split()]\n",
    "even=0\n",
    "odd=0\n",
    "for i in l:\n",
    "    if i%2==0:\n",
    "        even=even+i\n",
    "    else:\n",
    "        odd=odd+i\n",
    "print(even - odd)"
   ]
  },
  {
   "cell_type": "code",
   "execution_count": null,
   "metadata": {},
   "outputs": [],
   "source": [
    "## swap alternative\n",
    "numoftcc=int(input())\n",
    "runs=0\n",
    "while(runs<=numoftcc):\n",
    "    size=int(input())\n",
    "    k=[int(s) for s in input().split()]\n",
    "    k\n",
    "    count=0\n",
    "    for i in k:\n",
    "            if(count<=(len(k)-2)): \n",
    "                print(k[count],\"---\",k[count+1])\n",
    "                print(\"count==\",count)\n",
    "                num=k[count]\n",
    "                k[count]=k[count+1]\n",
    "                k[count+1]=num\n",
    "                print(k,\"-----------\")\n",
    "                count=count+2\n",
    "            \n",
    "            else:\n",
    "                break   \n",
    "    k\n",
    "runs=runs+1"
   ]
  },
  {
   "cell_type": "code",
   "execution_count": 37,
   "metadata": {},
   "outputs": [
    {
     "name": "stdout",
     "output_type": "stream",
     "text": [
      "1 2 3 4\n",
      "1\n",
      "2\n",
      "3\n",
      "4\n"
     ]
    }
   ],
   "source": [
    "#l=[1,2,3,4]\n",
    "k=[int(s) for s in input().split()]\n",
    "k\n",
    "for i in k:\n",
    "    print(i)"
   ]
  },
  {
   "cell_type": "code",
   "execution_count": 13,
   "metadata": {},
   "outputs": [
    {
     "name": "stdout",
     "output_type": "stream",
     "text": [
      "1\n",
      "2\n",
      "1 2\n",
      "2 1"
     ]
    }
   ],
   "source": [
    "## swap alternative\n",
    "numoftcc=int(input())\n",
    "runs=0\n",
    "while(runs<numoftcc):\n",
    "    size=int(input())\n",
    "    k=[int(s) for s in input().split()]\n",
    "    k\n",
    "    count=0\n",
    "    for i in k:\n",
    "            if(count<=(len(k)-2)): \n",
    "                #print(k[count],\"---\",k[count+1])\n",
    "                #print(\"count==\",count)\n",
    "                num=k[count]\n",
    "                k[count]=k[count+1]\n",
    "                k[count+1]=num\n",
    "               #print(k,\"-----------\")\n",
    "                count=count+2\n",
    "            \n",
    "            else:\n",
    "                break   \n",
    "    print(*k,end=\"\")\n",
    "    runs=runs+1"
   ]
  },
  {
   "cell_type": "code",
   "execution_count": 15,
   "metadata": {},
   "outputs": [
    {
     "name": "stdout",
     "output_type": "stream",
     "text": [
      "2\n",
      "3\n",
      "1 2 3 4\n",
      "2 1 4 3\n",
      "4\n",
      "1 2 3 4 5 6 7 8\n",
      "2 1 4 3 6 5 8 7\n"
     ]
    }
   ],
   "source": [
    "numoftcc=int(input())\n",
    "runs=0\n",
    "while(runs<numoftcc):\n",
    "    size=int(input())\n",
    "    k=[int(s) for s in input().split()]\n",
    "    k\n",
    "    count=0\n",
    "    for i in k:\n",
    "            if(count<=(len(k)-2)): \n",
    "                #print(k[count],\"---\",k[count+1])\n",
    "                #print(\"count==\",count)\n",
    "                num=k[count]\n",
    "                k[count]=k[count+1]\n",
    "                k[count+1]=num\n",
    "               #print(k,\"-----------\")\n",
    "                count=count+2\n",
    "            \n",
    "            else:\n",
    "                break   \n",
    "    print(*k)\n",
    "    runs=runs+1"
   ]
  },
  {
   "cell_type": "code",
   "execution_count": 1,
   "metadata": {},
   "outputs": [
    {
     "name": "stdout",
     "output_type": "stream",
     "text": [
      "5\n"
     ]
    }
   ],
   "source": [
    "n=int(input())"
   ]
  }
 ],
 "metadata": {
  "kernelspec": {
   "display_name": "Python 3",
   "language": "python",
   "name": "python3"
  },
  "language_info": {
   "codemirror_mode": {
    "name": "ipython",
    "version": 3
   },
   "file_extension": ".py",
   "mimetype": "text/x-python",
   "name": "python",
   "nbconvert_exporter": "python",
   "pygments_lexer": "ipython3",
   "version": "3.8.3"
  }
 },
 "nbformat": 4,
 "nbformat_minor": 4
}
