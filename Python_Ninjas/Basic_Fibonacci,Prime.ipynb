{
 "cells": [
  {
   "cell_type": "code",
   "execution_count": 3,
   "metadata": {},
   "outputs": [
    {
     "data": {
      "text/plain": [
       "bool"
      ]
     },
     "execution_count": 3,
     "metadata": {},
     "output_type": "execute_result"
    }
   ],
   "source": [
    "a=True\n",
    "b=False\n",
    "\n",
    "type(a)\n"
   ]
  },
  {
   "cell_type": "code",
   "execution_count": null,
   "metadata": {},
   "outputs": [],
   "source": [
    "A=True\n"
   ]
  },
  {
   "cell_type": "code",
   "execution_count": 9,
   "metadata": {},
   "outputs": [
    {
     "name": "stdout",
     "output_type": "stream",
     "text": [
      "False\n",
      "True\n",
      "True\n",
      "False\n"
     ]
    }
   ],
   "source": [
    "##Relational Operators\n",
    "\n",
    "a=10\n",
    "b=20\n",
    "print(a>b)\n",
    "print(a<b)\n",
    "print(a<=b)\n",
    "print(a==b)"
   ]
  },
  {
   "cell_type": "markdown",
   "metadata": {},
   "source": [
    "## Logical Operators\n"
   ]
  },
  {
   "cell_type": "code",
   "execution_count": 15,
   "metadata": {},
   "outputs": [
    {
     "name": "stdout",
     "output_type": "stream",
     "text": [
      "False\n",
      "True\n"
     ]
    }
   ],
   "source": [
    "c1 = a>10\n",
    "c2= b>10\n",
    "r1= c1 and c2\n",
    "r2= c1 or c2\n",
    "print(r1)\n",
    "print(r2)"
   ]
  },
  {
   "cell_type": "markdown",
   "metadata": {},
   "source": [
    "## If else"
   ]
  },
  {
   "cell_type": "code",
   "execution_count": 19,
   "metadata": {},
   "outputs": [
    {
     "name": "stdout",
     "output_type": "stream",
     "text": [
      "I am inside if\n",
      "Hello\n"
     ]
    }
   ],
   "source": [
    "a= True\n",
    "if a:\n",
    "    print(\"I am inside if\")\n",
    "    print(\"Hello\")\n",
    "else:\n",
    "    print(\"I am in else\")\n",
    "    \n",
    "  \n",
    "    "
   ]
  },
  {
   "cell_type": "code",
   "execution_count": 22,
   "metadata": {},
   "outputs": [
    {
     "name": "stdout",
     "output_type": "stream",
     "text": [
      "3\n",
      "a is odd\n"
     ]
    }
   ],
   "source": [
    "##check if the numnber is odd or even\n",
    "\n",
    "a=int(input())\n",
    "r=a%2\n",
    "\n",
    "if (a%2==0):\n",
    "    print(\"a is even\")\n",
    "else:\n",
    "    print(\"a is odd\")"
   ]
  },
  {
   "cell_type": "markdown",
   "metadata": {},
   "source": [
    "# While Loop"
   ]
  },
  {
   "cell_type": "code",
   "execution_count": 25,
   "metadata": {},
   "outputs": [
    {
     "name": "stdout",
     "output_type": "stream",
     "text": [
      "10\n",
      "Go to hell\n",
      "Go to hell\n",
      "Go to hell\n",
      "Go to hell\n",
      "Go to hell\n",
      "Go to hell\n",
      "Go to hell\n",
      "Go to hell\n",
      "Go to hell\n",
      "Go to hell\n"
     ]
    }
   ],
   "source": [
    "n=int(input())\n",
    "count=1\n",
    "while count<=n:\n",
    "    print(\"Go to hell\")\n",
    "    count=count+1\n",
    "    "
   ]
  },
  {
   "cell_type": "code",
   "execution_count": 29,
   "metadata": {},
   "outputs": [
    {
     "name": "stdout",
     "output_type": "stream",
     "text": [
      "3\n",
      "1\n",
      "2\n",
      "3\n"
     ]
    }
   ],
   "source": [
    "#print first n natural numbers\n",
    "n=int(input())\n",
    "count=1\n",
    "while count<=n:\n",
    "    print(count)\n",
    "    count=count+1"
   ]
  },
  {
   "cell_type": "code",
   "execution_count": 34,
   "metadata": {},
   "outputs": [
    {
     "name": "stdout",
     "output_type": "stream",
     "text": [
      "4\n",
      "10\n"
     ]
    }
   ],
   "source": [
    "#sum of n numbers\n",
    "n=int(input())\n",
    "count=1\n",
    "sum=0\n",
    "while(count<=n):\n",
    "    sum =count+sum\n",
    "    count=count+1\n",
    "print(sum)"
   ]
  },
  {
   "cell_type": "code",
   "execution_count": 43,
   "metadata": {},
   "outputs": [
    {
     "name": "stdout",
     "output_type": "stream",
     "text": [
      "4\n",
      "6\n"
     ]
    }
   ],
   "source": [
    "n=int(input())\n",
    "sum=0\n",
    "count=0\n",
    "while (count<=n):\n",
    "    sum=sum+count\n",
    "    count=count+2\n",
    "\n",
    "print(sum)"
   ]
  },
  {
   "cell_type": "markdown",
   "metadata": {},
   "source": [
    "## check Prime"
   ]
  },
  {
   "cell_type": "code",
   "execution_count": 55,
   "metadata": {},
   "outputs": [
    {
     "name": "stdout",
     "output_type": "stream",
     "text": [
      "5\n",
      "n is prime\n"
     ]
    }
   ],
   "source": [
    "n=int(input())\n",
    "d=2\n",
    "flag= False\n",
    "while d<n:\n",
    "    if(n%d==0):\n",
    "        flag= True\n",
    "    d=d+1\n",
    "if (flag):\n",
    "    print(\"n is not prime\")\n",
    "else:\n",
    "    print(\"n is prime\")"
   ]
  },
  {
   "cell_type": "code",
   "execution_count": 78,
   "metadata": {
    "scrolled": true
   },
   "outputs": [
    {
     "name": "stdout",
     "output_type": "stream",
     "text": [
      "8\n",
      "3\n",
      "n is prime\n",
      "4\n",
      "n is not prime\n",
      "5\n",
      "n is prime\n",
      "6\n",
      "n is not prime\n",
      "7\n",
      "n is prime\n",
      "8\n",
      "n is not prime\n"
     ]
    }
   ],
   "source": [
    "#check for each number if it prime or not\n",
    "n=int(input())\n",
    "count=3\n",
    "while count<=n:\n",
    "    flag= False\n",
    "    d=2\n",
    "    while d<count:\n",
    "        if(count%d==0):\n",
    "            flag= True\n",
    "        d=d+1\n",
    "    if(flag):\n",
    "        print(count)\n",
    "        print(\"n is not prime\")\n",
    "    else:\n",
    "        print(count)\n",
    "        print(\"n is prime\")\n",
    "    count=count+1"
   ]
  },
  {
   "cell_type": "code",
   "execution_count": 124,
   "metadata": {},
   "outputs": [
    {
     "name": "stdout",
     "output_type": "stream",
     "text": [
      "36\n",
      "618\n",
      "78\n",
      "36   2.2222222222222223\n",
      "114   45.55555555555556\n",
      "192   88.88888888888889\n",
      "270   132.22222222222223\n",
      "348   175.55555555555554\n",
      "426   218.88888888888889\n",
      "504   262.22222222222223\n",
      "582   305.55555555555554\n"
     ]
    }
   ],
   "source": [
    "    S=int(input())\n",
    "    E=int(input())\n",
    "    Steps=int(input())\n",
    "\n",
    "    Cel=0\n",
    "    while(S<=E):\n",
    "        Cel=((S-32)*5)/9\n",
    "        print(S,\" \",Cel)\n",
    "        S=S+Steps"
   ]
  },
  {
   "cell_type": "code",
   "execution_count": 138,
   "metadata": {},
   "outputs": [
    {
     "name": "stdout",
     "output_type": "stream",
     "text": [
      "Enter the number4\n",
      "50\n",
      "5\n",
      "10\n",
      "Enter the number3\n",
      "2\n",
      "3\n",
      "6\n",
      "Enter the number6\n"
     ]
    }
   ],
   "source": [
    "##Calculator\n",
    "n=int(input(\"Enter the number\"))\n",
    "while(n!=6):\n",
    "        if (n==1):\n",
    "            s1=int(input())\n",
    "            s2=int(input())\n",
    "            sum=s1+s2\n",
    "            print(sum)\n",
    "        elif (n==2):\n",
    "            d1=int(input())\n",
    "            d2=int(input())\n",
    "            diff=d2-d1\n",
    "            print(diff)\n",
    "        elif n==3:\n",
    "            p1=int(input())\n",
    "            p2=int(input())\n",
    "            prod=p1*p2\n",
    "            print(prod)\n",
    "        elif n==4:\n",
    "            q1=int(input())\n",
    "            q2=int(input())\n",
    "            quotient=q1//q2\n",
    "            print(quotient)\n",
    "        elif n==5:\n",
    "            q1=int(input())\n",
    "            q2=int(input())\n",
    "            remainder=q1%q2\n",
    "            print(remainder)\n",
    "        else:\n",
    "            print(\"Invalid Operation\")\n",
    "        n=int(input(\"Enter the number\"))\n",
    "print(\"Invalid Operation\")"
   ]
  },
  {
   "cell_type": "code",
   "execution_count": 150,
   "metadata": {},
   "outputs": [
    {
     "name": "stdout",
     "output_type": "stream",
     "text": [
      "123\n",
      "3\n",
      "321\n"
     ]
    }
   ],
   "source": [
    "#reverse of a number\n",
    "n=int(input())\n",
    "numb=n\n",
    "count=0\n",
    "while(numb!=0):\n",
    "    rem=n%10\n",
    "    count=count+1\n",
    "    numb=numb//10\n",
    "print(count)\n",
    "rev=0\n",
    "while(n!=0):\n",
    "    rem=n%10\n",
    "    rev=rem*(10**(count-1))+rev\n",
    "    n=n//10\n",
    "    count=count-1\n",
    "print(rev)"
   ]
  },
  {
   "cell_type": "code",
   "execution_count": 155,
   "metadata": {},
   "outputs": [
    {
     "name": "stdout",
     "output_type": "stream",
     "text": [
      "123\n",
      "false\n"
     ]
    }
   ],
   "source": [
    "#is palindrome\n",
    "def checkPalindrome(num):\n",
    "    temp=num\n",
    "    rev=0\n",
    "    while(num!=0):\n",
    "        rem=num%10\n",
    "        rev=rev*10+rem\n",
    "        num=num//10\n",
    "    if(rev==temp):\n",
    "        return True\n",
    "    else:\n",
    "        return False\n",
    "    \n",
    "\n",
    "num = int(input())\n",
    "isPalindrome = checkPalindrome(num)\n",
    "if(isPalindrome):\n",
    "\tprint('true')\n",
    "else:\n",
    "\tprint('false')"
   ]
  },
  {
   "cell_type": "code",
   "execution_count": 161,
   "metadata": {},
   "outputs": [
    {
     "name": "stdout",
     "output_type": "stream",
     "text": [
      "1234\n",
      "6  4\n"
     ]
    }
   ],
   "source": [
    "##sumofodd and even\n",
    "num=int(input())\n",
    "sum_of_e=0\n",
    "sum_of_o=0\n",
    "while(num!=0):\n",
    "    rem=num%10\n",
    "    if(rem%2==0):\n",
    "        sum_of_e=sum_of_e+rem\n",
    "    else:\n",
    "        sum_of_o=sum_of_o+rem\n",
    "    num=num//10\n",
    "print(sum_of_e,\"\",sum_of_o)"
   ]
  },
  {
   "cell_type": "code",
   "execution_count": 7,
   "metadata": {},
   "outputs": [
    {
     "name": "stdout",
     "output_type": "stream",
     "text": [
      "4\n",
      "3\n"
     ]
    }
   ],
   "source": [
    "#fibonanci\n",
    "n=0;\n",
    "n1=1;\n",
    "count=1\n",
    "num=int(input())\n",
    "while(count<num):\n",
    "    sum=n+n1\n",
    "    n=n1\n",
    "    n1=sum\n",
    "    count=count+1\n",
    "print(sum)"
   ]
  },
  {
   "cell_type": "code",
   "execution_count": 5,
   "metadata": {},
   "outputs": [
    {
     "name": "stdout",
     "output_type": "stream",
     "text": [
      "5\n",
      "0\n",
      "1\n",
      "3\n",
      "6\n",
      "10\n",
      "15\n",
      "15\n"
     ]
    }
   ],
   "source": [
    "n=int(input())\n",
    "i=0\n",
    "sum=0\n",
    "while(i<=n):\n",
    "    sum=sum+i\n",
    "    i=i+1\n",
    "print(sum) "
   ]
  },
  {
   "cell_type": "code",
   "execution_count": 6,
   "metadata": {},
   "outputs": [
    {
     "name": "stdout",
     "output_type": "stream",
     "text": [
      "6\n",
      "12\n"
     ]
    }
   ],
   "source": [
    "n=int(input())\n",
    "i=0\n",
    "sum=0\n",
    "while(i<=n):\n",
    "    sum=sum+i\n",
    "    i=i+2\n",
    "print(sum)"
   ]
  },
  {
   "cell_type": "code",
   "execution_count": 3,
   "metadata": {},
   "outputs": [
    {
     "name": "stdout",
     "output_type": "stream",
     "text": [
      "10\n",
      "3\n"
     ]
    }
   ],
   "source": [
    "import math\n",
    "n=int(input())\n",
    "squareroot=math.sqrt(n)\n",
    "print(int(squareroot))"
   ]
  },
  {
   "cell_type": "code",
   "execution_count": 10,
   "metadata": {},
   "outputs": [
    {
     "name": "stdout",
     "output_type": "stream",
     "text": [
      "400\n",
      "453973694165307953197296969697410619233826\n"
     ]
    }
   ],
   "source": [
    "##Basic Even Fibonaaci Series\n",
    "n=int(input())\n",
    "n1=0\n",
    "n2=1\n",
    "count=0\n",
    "sum=0\n",
    "finalsum=0\n",
    "while(count<n):\n",
    "    sum=n1+n2\n",
    "    n1=n2\n",
    "    n2=sum\n",
    "    count=count+1\n",
    "    if(sum%2==0):\n",
    "        finalsum=finalsum\n",
    "    "
   ]
  },
  {
   "cell_type": "code",
   "execution_count": 8,
   "metadata": {},
   "outputs": [
    {
     "name": "stdout",
     "output_type": "stream",
     "text": [
      "5\n"
     ]
    },
    {
     "ename": "UnboundLocalError",
     "evalue": "local variable 'sum' referenced before assignment",
     "output_type": "error",
     "traceback": [
      "\u001b[1;31m---------------------------------------------------------------------------\u001b[0m",
      "\u001b[1;31mUnboundLocalError\u001b[0m                         Traceback (most recent call last)",
      "\u001b[1;32m<ipython-input-8-ac8d99d5c940>\u001b[0m in \u001b[0;36m<module>\u001b[1;34m\u001b[0m\n\u001b[0;32m      9\u001b[0m \u001b[0msum\u001b[0m\u001b[1;33m=\u001b[0m\u001b[1;36m0\u001b[0m\u001b[1;33m\u001b[0m\u001b[1;33m\u001b[0m\u001b[0m\n\u001b[0;32m     10\u001b[0m \u001b[0mn\u001b[0m\u001b[1;33m=\u001b[0m\u001b[0mint\u001b[0m\u001b[1;33m(\u001b[0m\u001b[0minput\u001b[0m\u001b[1;33m(\u001b[0m\u001b[1;33m)\u001b[0m\u001b[1;33m)\u001b[0m\u001b[1;33m\u001b[0m\u001b[1;33m\u001b[0m\u001b[0m\n\u001b[1;32m---> 11\u001b[1;33m \u001b[1;32mif\u001b[0m\u001b[1;33m(\u001b[0m\u001b[0mcheckMember\u001b[0m\u001b[1;33m(\u001b[0m\u001b[0mn\u001b[0m\u001b[1;33m)\u001b[0m\u001b[1;33m)\u001b[0m\u001b[1;33m:\u001b[0m\u001b[1;33m\u001b[0m\u001b[1;33m\u001b[0m\u001b[0m\n\u001b[0m\u001b[0;32m     12\u001b[0m     \u001b[0mprint\u001b[0m\u001b[1;33m(\u001b[0m\u001b[1;34m\"true\"\u001b[0m\u001b[1;33m)\u001b[0m\u001b[1;33m\u001b[0m\u001b[1;33m\u001b[0m\u001b[0m\n\u001b[0;32m     13\u001b[0m \u001b[1;32melse\u001b[0m\u001b[1;33m:\u001b[0m\u001b[1;33m\u001b[0m\u001b[1;33m\u001b[0m\u001b[0m\n",
      "\u001b[1;32m<ipython-input-8-ac8d99d5c940>\u001b[0m in \u001b[0;36mcheckMember\u001b[1;34m(n)\u001b[0m\n\u001b[0;32m      1\u001b[0m \u001b[1;32mdef\u001b[0m \u001b[0mcheckMember\u001b[0m\u001b[1;33m(\u001b[0m\u001b[0mn\u001b[0m\u001b[1;33m)\u001b[0m\u001b[1;33m:\u001b[0m\u001b[1;33m\u001b[0m\u001b[1;33m\u001b[0m\u001b[0m\n\u001b[1;32m----> 2\u001b[1;33m     \u001b[1;32mwhile\u001b[0m\u001b[1;33m(\u001b[0m\u001b[0mn\u001b[0m\u001b[1;33m<\u001b[0m\u001b[0msum\u001b[0m\u001b[1;33m)\u001b[0m\u001b[1;33m:\u001b[0m\u001b[1;33m\u001b[0m\u001b[1;33m\u001b[0m\u001b[0m\n\u001b[0m\u001b[0;32m      3\u001b[0m         \u001b[0msum\u001b[0m\u001b[1;33m=\u001b[0m\u001b[0mn1\u001b[0m\u001b[1;33m+\u001b[0m\u001b[0mn2\u001b[0m\u001b[1;33m\u001b[0m\u001b[1;33m\u001b[0m\u001b[0m\n\u001b[0;32m      4\u001b[0m         \u001b[0mn1\u001b[0m\u001b[1;33m=\u001b[0m\u001b[0mn2\u001b[0m\u001b[1;33m\u001b[0m\u001b[1;33m\u001b[0m\u001b[0m\n\u001b[0;32m      5\u001b[0m         \u001b[0mn1\u001b[0m\u001b[1;33m=\u001b[0m\u001b[0msum\u001b[0m\u001b[1;33m\u001b[0m\u001b[1;33m\u001b[0m\u001b[0m\n",
      "\u001b[1;31mUnboundLocalError\u001b[0m: local variable 'sum' referenced before assignment"
     ]
    }
   ],
   "source": [
    "\n",
    "def checkMember(n):\n",
    "    while(n<sum): \n",
    "        sum=n1+n2\n",
    "        n1=n2\n",
    "        n1=sum\n",
    "pass\n",
    "n1=0\n",
    "n2=1\n",
    "sum=0\n",
    "n=int(input())\n",
    "if(checkMember(n)):\n",
    "    print(\"true\")\n",
    "else:\n",
    "    print(\"false\")"
   ]
  }
 ],
 "metadata": {
  "kernelspec": {
   "display_name": "Python 3",
   "language": "python",
   "name": "python3"
  },
  "language_info": {
   "codemirror_mode": {
    "name": "ipython",
    "version": 3
   },
   "file_extension": ".py",
   "mimetype": "text/x-python",
   "name": "python",
   "nbconvert_exporter": "python",
   "pygments_lexer": "ipython3",
   "version": "3.8.3"
  }
 },
 "nbformat": 4,
 "nbformat_minor": 4
}
