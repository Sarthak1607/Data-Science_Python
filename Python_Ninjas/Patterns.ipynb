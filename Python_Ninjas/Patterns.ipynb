{
 "cells": [
  {
   "cell_type": "code",
   "execution_count": 8,
   "metadata": {},
   "outputs": [
    {
     "name": "stdout",
     "output_type": "stream",
     "text": [
      "4\n",
      "****\n",
      "****\n",
      "****\n",
      "****\n"
     ]
    }
   ],
   "source": [
    "n=int(input())\n",
    "i=0\n",
    "while i<n:\n",
    "    j=0\n",
    "    while j<n:\n",
    "        print(\"*\",end='')\n",
    "        j=j+1\n",
    "    print()\n",
    "    i=i+1"
   ]
  },
  {
   "cell_type": "markdown",
   "metadata": {},
   "source": [
    "## Triangle Pattern"
   ]
  },
  {
   "cell_type": "code",
   "execution_count": 10,
   "metadata": {},
   "outputs": [
    {
     "name": "stdout",
     "output_type": "stream",
     "text": [
      "4\n",
      "*\n",
      "**\n",
      "***\n",
      "****\n"
     ]
    }
   ],
   "source": [
    "n=int(input())\n",
    "i=0\n",
    "while i<n:\n",
    "    j=0\n",
    "    while j<=i:\n",
    "        print(\"*\",end='')\n",
    "        j=j+1\n",
    "    print()\n",
    "    i=i+1"
   ]
  },
  {
   "cell_type": "code",
   "execution_count": null,
   "metadata": {},
   "outputs": [],
   "source": [
    "n=int(input())\n",
    "i=0\n",
    "while i<n:\n",
    "    j=0\n",
    "    while j<=i:\n",
    "        print(n,end='')\n",
    "        j=j+1\n",
    "    print()\n",
    "    i=i+1"
   ]
  },
  {
   "cell_type": "code",
   "execution_count": 17,
   "metadata": {},
   "outputs": [
    {
     "name": "stdout",
     "output_type": "stream",
     "text": [
      "4\n",
      "1\n",
      "22\n",
      "333\n",
      "4444\n"
     ]
    }
   ],
   "source": [
    "n=int(input())\n",
    "i=1\n",
    "while i<=n:\n",
    "    j=0\n",
    "    while j<i:\n",
    "        print(i,end='')\n",
    "        j=j+1\n",
    "    print()\n",
    "    i=i+1"
   ]
  },
  {
   "cell_type": "code",
   "execution_count": 18,
   "metadata": {},
   "outputs": [
    {
     "name": "stdout",
     "output_type": "stream",
     "text": [
      "4\n",
      "1\n",
      "21\n",
      "321\n",
      "4321\n"
     ]
    }
   ],
   "source": [
    "n=int(input())\n",
    "i=1\n",
    "while i<=n:\n",
    "    count=i\n",
    "    j=0\n",
    "    while j<i:\n",
    "        print(count,end='')\n",
    "        count=count-1\n",
    "        j=j+1\n",
    "    print()\n",
    "    i=i+1"
   ]
  },
  {
   "cell_type": "code",
   "execution_count": 28,
   "metadata": {},
   "outputs": [
    {
     "data": {
      "text/plain": [
       "'B'"
      ]
     },
     "execution_count": 28,
     "metadata": {},
     "output_type": "execute_result"
    }
   ],
   "source": [
    "asciiofa=ord('A')\n",
    "asciiofa+1\n",
    "chr(asciiofa+1)"
   ]
  },
  {
   "cell_type": "code",
   "execution_count": 24,
   "metadata": {},
   "outputs": [
    {
     "data": {
      "text/plain": [
       "66"
      ]
     },
     "execution_count": 24,
     "metadata": {},
     "output_type": "execute_result"
    }
   ],
   "source": [
    "ord('B')"
   ]
  },
  {
   "cell_type": "code",
   "execution_count": 31,
   "metadata": {},
   "outputs": [
    {
     "name": "stdout",
     "output_type": "stream",
     "text": [
      "4\n",
      "A\n",
      "BB\n",
      "CCC\n",
      "DDDD\n"
     ]
    }
   ],
   "source": [
    "n=int(input())\n",
    "i=1\n",
    "asciiofa=ord('A')\n",
    "while i<=n:\n",
    "    count=i\n",
    "    j=0\n",
    "    while j<i:\n",
    "        print(chr(asciiofa),end='')\n",
    "        j=j+1\n",
    "    print()\n",
    "    i=i+1\n",
    "    asciiofa=asciiofa+1"
   ]
  },
  {
   "cell_type": "code",
   "execution_count": 95,
   "metadata": {},
   "outputs": [
    {
     "name": "stdout",
     "output_type": "stream",
     "text": [
      "4\n",
      "A\n",
      "BC\n",
      "CDE\n",
      "DEFG\n"
     ]
    }
   ],
   "source": [
    "n=int(input())\n",
    "i=1\n",
    "count=0\n",
    "asciiofa=ord('A')\n",
    "valueofa=asciiofa\n",
    "while i<=n:\n",
    "    j=0\n",
    "    asciiofa=asciiofa+count\n",
    "    while j<i:\n",
    "        print(chr(asciiofa),end='')\n",
    "        asciiofa=asciiofa+1\n",
    "        j=j+1\n",
    "    print()\n",
    "    asciiofa=valueofa\n",
    "    count=count+1\n",
    "    i=i+1   "
   ]
  },
  {
   "cell_type": "markdown",
   "metadata": {},
   "source": [
    "## Decreasing alphabets"
   ]
  },
  {
   "cell_type": "code",
   "execution_count": 104,
   "metadata": {},
   "outputs": [
    {
     "name": "stdout",
     "output_type": "stream",
     "text": [
      "4\n",
      "D\n",
      "CD\n",
      "BCD\n",
      "ABCD\n"
     ]
    }
   ],
   "source": [
    "n=int(input())\n",
    "i=0\n",
    "asciofffirst=ord('A')+n-1\n",
    "temp=asciofffirst\n",
    "while(i<n):\n",
    "    j=0\n",
    "    while(j<=i):\n",
    "        print(chr(asciofffirst),end='')\n",
    "        asciofffirst=asciofffirst+1\n",
    "        j=j+1\n",
    "    i=i+1\n",
    "    asciofffirst=temp\n",
    "    asciofffirst=asciofffirst-i\n",
    "    print()"
   ]
  },
  {
   "cell_type": "markdown",
   "metadata": {},
   "source": [
    "# Inverted Code"
   ]
  },
  {
   "cell_type": "code",
   "execution_count": 105,
   "metadata": {},
   "outputs": [
    {
     "name": "stdout",
     "output_type": "stream",
     "text": [
      "4\n",
      "4444\n",
      "333\n",
      "22\n",
      "1\n",
      "\n"
     ]
    }
   ],
   "source": [
    "n=int(input())\n",
    "i=0\n",
    "count=n\n",
    "while(i<=n):\n",
    "    j=0\n",
    "    while(j<n-i):\n",
    "        print(count,end='')\n",
    "        j=j+1   \n",
    "    i=i+1\n",
    "    print()\n",
    "    count=count-1"
   ]
  },
  {
   "cell_type": "markdown",
   "metadata": {},
   "source": [
    "## SPACE"
   ]
  },
  {
   "cell_type": "code",
   "execution_count": 106,
   "metadata": {},
   "outputs": [
    {
     "name": "stdout",
     "output_type": "stream",
     "text": [
      "4\n",
      "    1\n",
      "   12\n",
      "  123\n",
      " 1234\n"
     ]
    }
   ],
   "source": [
    "n=int(input())\n",
    "i=1\n",
    "\n",
    "while(i<=n):\n",
    "    spaces=n-i\n",
    "    j=0\n",
    "    while(j<spaces):\n",
    "        print(\" \",end='')\n",
    "        j=j+1\n",
    "    k=0\n",
    "    count=1\n",
    "    numtoprint=1\n",
    "    while(k<i):\n",
    "        print(numtoprint,end='')\n",
    "        numtoprint=numtoprint+1\n",
    "        k=k+1\n",
    "    i=i+1\n",
    "    print()\n",
    "    "
   ]
  },
  {
   "cell_type": "code",
   "execution_count": 111,
   "metadata": {},
   "outputs": [
    {
     "name": "stdout",
     "output_type": "stream",
     "text": [
      "4\n",
      "   1\n",
      "  121\n",
      " 12321\n",
      "1234321\n"
     ]
    }
   ],
   "source": [
    "n=int(input())\n",
    "i=1\n",
    "\n",
    "while(i<=n):\n",
    "    #spaces\n",
    "    spaces=n-i\n",
    "    j=0\n",
    "    while(j<spaces):\n",
    "        print(\" \",end='')\n",
    "        j=j+1\n",
    "    k=0\n",
    "    numtoprint=1\n",
    "    #increasing squence\n",
    "    while(k<i):\n",
    "        print(numtoprint,end='')\n",
    "        numtoprint=numtoprint+1\n",
    "        k=k+1\n",
    "   #decreasing squence\n",
    "    p= i - 1\n",
    "    while(p>=1):\n",
    "        print(p,end='')\n",
    "        p=p-1\n",
    "    i=i+1\n",
    "    print()"
   ]
  },
  {
   "cell_type": "code",
   "execution_count": 115,
   "metadata": {},
   "outputs": [
    {
     "name": "stdout",
     "output_type": "stream",
     "text": [
      "4\n",
      "   1\n",
      "  232\n",
      " 34543\n",
      "4567654\n"
     ]
    }
   ],
   "source": [
    "n=int(input())\n",
    "i=1\n",
    "\n",
    "while(i<=n):\n",
    "    #spaces\n",
    "    spaces=n-i\n",
    "    j=0\n",
    "    while(j<spaces):\n",
    "        print(\" \",end='')\n",
    "        j=j+1\n",
    "    k=0\n",
    "    numtoprint=i\n",
    "    #increasing squence\n",
    "    while(k<i):\n",
    "        print(numtoprint,end='')\n",
    "        numtoprint=numtoprint+1\n",
    "        k=k+1\n",
    "   #decreasing squence\n",
    "    p= numtoprint - 2\n",
    "    while(p>i-1):\n",
    "        print(p,end='')\n",
    "        p=p-1\n",
    "    i=i+1\n",
    "    print()"
   ]
  },
  {
   "cell_type": "markdown",
   "metadata": {},
   "source": [
    "## Diamond"
   ]
  },
  {
   "cell_type": "code",
   "execution_count": 183,
   "metadata": {},
   "outputs": [
    {
     "name": "stdout",
     "output_type": "stream",
     "text": [
      "5\n",
      " *\n",
      "***\n",
      "*****\n",
      " ***\n",
      "  *\n"
     ]
    }
   ],
   "source": [
    "n=int(input())\n",
    "i=1\n",
    "\n",
    "while(i<=n):\n",
    "    \n",
    "    if(i<=n/2+1):\n",
    "        #spaces\n",
    "        spaces=n/2-i\n",
    "        j=0\n",
    "        while(j<spaces-1):\n",
    "            print(\" \",end='')\n",
    "            j=j+1\n",
    "        k=0\n",
    "        numtoprint=i\n",
    "        #increasing squence\n",
    "        while(k<i):\n",
    "            print(\"*\",end='')\n",
    "            numtoprint=numtoprint+1\n",
    "            k=k+1\n",
    "       #decreasing squence\n",
    "        p= numtoprint - 2\n",
    "        while(p>i-1):\n",
    "            print(\"*\",end='')\n",
    "            p=p-1\n",
    "        \n",
    "    else:\n",
    "        #spaces\n",
    "        spaces=i-n//2-1\n",
    "        j=0\n",
    "        while(j<spaces):\n",
    "            print(\" \",end='')\n",
    "            j=j+1\n",
    "        #increasing\n",
    "        k=0\n",
    "        while(k<=n-i):\n",
    "            print(\"*\",end='')\n",
    "            k=k+1\n",
    "        #decreasing\n",
    "        p=0\n",
    "        while(p<n-i):\n",
    "            print(\"*\",end='')\n",
    "            p=p+1\n",
    "    i=i+1\n",
    "    print()"
   ]
  },
  {
   "cell_type": "code",
   "execution_count": 126,
   "metadata": {},
   "outputs": [
    {
     "data": {
      "text/plain": [
       "2"
      ]
     },
     "execution_count": 126,
     "metadata": {},
     "output_type": "execute_result"
    }
   ],
   "source": [
    "5//2"
   ]
  }
 ],
 "metadata": {
  "kernelspec": {
   "display_name": "Python 3",
   "language": "python",
   "name": "python3"
  },
  "language_info": {
   "codemirror_mode": {
    "name": "ipython",
    "version": 3
   },
   "file_extension": ".py",
   "mimetype": "text/x-python",
   "name": "python",
   "nbconvert_exporter": "python",
   "pygments_lexer": "ipython3",
   "version": "3.8.3"
  }
 },
 "nbformat": 4,
 "nbformat_minor": 4
}
